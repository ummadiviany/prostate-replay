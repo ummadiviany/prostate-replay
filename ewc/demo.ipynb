{
  "cells": [
    {
      "cell_type": "code",
      "execution_count": null,
      "metadata": {
        "colab": {},
        "colab_type": "code",
        "id": "C7Ppv-uc9DWM"
      },
      "outputs": [],
      "source": [
        "import torch\n",
        "import torch.nn as nn\n",
        "import torch.nn.functional as F\n",
        "from elastic_weight_consolidation import ElasticWeightConsolidation"
      ]
    },
    {
      "cell_type": "code",
      "execution_count": null,
      "metadata": {
        "colab": {},
        "colab_type": "code",
        "id": "qe22sCzx9DWQ"
      },
      "outputs": [],
      "source": [
        "from torch.utils.data import Dataset, DataLoader\n",
        "from torchvision import datasets, transforms"
      ]
    },
    {
      "cell_type": "code",
      "execution_count": null,
      "metadata": {
        "colab": {},
        "colab_type": "code",
        "id": "Y_LMkmXG9DWV"
      },
      "outputs": [],
      "source": [
        "mnist_train = datasets.MNIST(\"data\", train=True, download=True, transform=transforms.ToTensor())\n",
        "mnist_test = datasets.MNIST(\"data\", train=False, download=True, transform=transforms.ToTensor())\n",
        "train_loader = DataLoader(mnist_train, batch_size = 100, shuffle=True)\n",
        "test_loader = DataLoader(mnist_test, batch_size = 100, shuffle=False)"
      ]
    },
    {
      "cell_type": "code",
      "execution_count": null,
      "metadata": {
        "colab": {},
        "colab_type": "code",
        "id": "YrKlgL6t9zJe"
      },
      "outputs": [],
      "source": [
        "class LinearLayer(nn.Module):\n",
        "    def __init__(self, input_dim, output_dim, act='relu', use_bn=False):\n",
        "        super(LinearLayer, self).__init__()\n",
        "        self.use_bn = use_bn\n",
        "        self.lin = nn.Linear(input_dim, output_dim)\n",
        "        self.act = nn.ReLU() if act == 'relu' else act\n",
        "        if use_bn:\n",
        "            self.bn = nn.BatchNorm1d(output_dim)\n",
        "    def forward(self, x):\n",
        "        if self.use_bn:\n",
        "            return self.bn(self.act(self.lin(x)))\n",
        "        return self.act(self.lin(x))\n",
        "\n",
        "class Flatten(nn.Module):\n",
        "\n",
        "    def forward(self, x):\n",
        "        return x.view(x.shape[0], -1)\n"
      ]
    },
    {
      "cell_type": "code",
      "execution_count": null,
      "metadata": {
        "colab": {},
        "colab_type": "code",
        "id": "44d9meQa9DWc"
      },
      "outputs": [],
      "source": [
        "class BaseModel(nn.Module):\n",
        "    \n",
        "    def __init__(self, num_inputs, num_hidden, num_outputs):\n",
        "        super(BaseModel, self).__init__()\n",
        "        self.f1 = Flatten()\n",
        "        self.lin1 = LinearLayer(num_inputs, num_hidden, use_bn=True)\n",
        "        self.lin2 = LinearLayer(num_hidden, num_hidden, use_bn=True)\n",
        "        self.lin3 = nn.Linear(num_hidden, num_outputs)\n",
        "        \n",
        "    def forward(self, x):\n",
        "        return self.lin3(self.lin2(self.lin1(self.f1(x))))"
      ]
    },
    {
      "cell_type": "code",
      "execution_count": null,
      "metadata": {
        "colab": {},
        "colab_type": "code",
        "id": "_17XW9359DWf"
      },
      "outputs": [],
      "source": [
        "crit = nn.CrossEntropyLoss()"
      ]
    },
    {
      "cell_type": "code",
      "execution_count": null,
      "metadata": {
        "colab": {},
        "colab_type": "code",
        "id": "SpBrwjk89DWi"
      },
      "outputs": [],
      "source": [
        "ewc = ElasticWeightConsolidation(BaseModel(28 * 28, 100, 10), crit=crit, lr=1e-4)"
      ]
    },
    {
      "cell_type": "code",
      "execution_count": null,
      "metadata": {
        "colab": {},
        "colab_type": "code",
        "id": "CMQGk-E19DWl"
      },
      "outputs": [],
      "source": [
        "from tqdm import tqdm"
      ]
    },
    {
      "cell_type": "code",
      "execution_count": null,
      "metadata": {
        "colab": {
          "base_uri": "https://localhost:8080/",
          "height": 87
        },
        "colab_type": "code",
        "id": "gmbrFvJm9DWn",
        "outputId": "db2ca466-76dc-4d1c-fa32-8dc672a12a8f"
      },
      "outputs": [],
      "source": [
        "for _ in range(4):\n",
        "    for input, target in tqdm(train_loader):\n",
        "        ewc.forward_backward_update(input, target)"
      ]
    },
    {
      "cell_type": "code",
      "execution_count": null,
      "metadata": {
        "colab": {},
        "colab_type": "code",
        "id": "8HwlRJkI9DWt"
      },
      "outputs": [],
      "source": [
        "ewc.register_ewc_params(mnist_train, 100, 300)"
      ]
    },
    {
      "cell_type": "code",
      "execution_count": null,
      "metadata": {
        "colab": {},
        "colab_type": "code",
        "id": "NvJW68IB9DWw"
      },
      "outputs": [],
      "source": [
        "f_mnist_train = datasets.FashionMNIST(\"../data\", train=True, download=True, transform=transforms.ToTensor())\n",
        "f_mnist_test = datasets.FashionMNIST(\"../data\", train=False, download=True, transform=transforms.ToTensor())\n",
        "f_train_loader = DataLoader(f_mnist_train, batch_size = 100, shuffle=True)\n",
        "f_test_loader = DataLoader(f_mnist_test, batch_size = 100, shuffle=False)"
      ]
    },
    {
      "cell_type": "code",
      "execution_count": null,
      "metadata": {
        "colab": {
          "base_uri": "https://localhost:8080/",
          "height": 87
        },
        "colab_type": "code",
        "id": "SzQbVudz9DWy",
        "outputId": "bdcb55c5-d40a-4a7a-dca5-4652076e8033"
      },
      "outputs": [],
      "source": [
        "for _ in range(4):\n",
        "    for input, target in tqdm(f_train_loader):\n",
        "        ewc.forward_backward_update(input, target)"
      ]
    },
    {
      "cell_type": "code",
      "execution_count": null,
      "metadata": {
        "colab": {},
        "colab_type": "code",
        "id": "L8n6PX5w9DW2"
      },
      "outputs": [],
      "source": [
        "ewc.register_ewc_params(f_mnist_train, 100, 300)"
      ]
    },
    {
      "cell_type": "code",
      "execution_count": null,
      "metadata": {
        "colab": {},
        "colab_type": "code",
        "id": "fUqvbeO79DW4"
      },
      "outputs": [],
      "source": [
        "def accu(model, dataloader):\n",
        "    model = model.eval()\n",
        "    acc = 0\n",
        "    for input, target in dataloader:\n",
        "        o = model(input)\n",
        "        acc += (o.argmax(dim=1).long() == target).float().mean()\n",
        "    return acc / len(dataloader)"
      ]
    },
    {
      "cell_type": "code",
      "execution_count": null,
      "metadata": {
        "colab": {
          "base_uri": "https://localhost:8080/",
          "height": 35
        },
        "colab_type": "code",
        "id": "aOIOBZhp9DW6",
        "outputId": "b260dee2-3c7d-4a9f-be83-8ac412a32f5c"
      },
      "outputs": [],
      "source": [
        "accu(ewc.model, f_test_loader)"
      ]
    },
    {
      "cell_type": "code",
      "execution_count": null,
      "metadata": {
        "colab": {
          "base_uri": "https://localhost:8080/",
          "height": 35
        },
        "colab_type": "code",
        "id": "hFdW_33Y9DW-",
        "outputId": "38b2dad0-bfb4-48e5-ec01-d848cc8c1593"
      },
      "outputs": [],
      "source": [
        "accu(ewc.model, test_loader)"
      ]
    },
    {
      "cell_type": "code",
      "execution_count": null,
      "metadata": {
        "colab": {},
        "colab_type": "code",
        "id": "Fkni7xkY-tRI"
      },
      "outputs": [],
      "source": []
    }
  ],
  "metadata": {
    "colab": {
      "name": "Untitled1.ipynb",
      "provenance": [],
      "version": "0.3.2"
    },
    "kernelspec": {
      "display_name": "Python 3.10.4 ('torch')",
      "language": "python",
      "name": "python3"
    },
    "language_info": {
      "codemirror_mode": {
        "name": "ipython",
        "version": 3
      },
      "file_extension": ".py",
      "mimetype": "text/x-python",
      "name": "python",
      "nbconvert_exporter": "python",
      "pygments_lexer": "ipython3",
      "version": "3.10.4"
    },
    "vscode": {
      "interpreter": {
        "hash": "6d24504928e91d523290fcf14f9a42619935c279765d2b2a77f1a36c73a91659"
      }
    }
  },
  "nbformat": 4,
  "nbformat_minor": 0
}
